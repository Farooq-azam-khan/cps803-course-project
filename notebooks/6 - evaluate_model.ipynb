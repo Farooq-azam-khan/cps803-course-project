{
 "cells": [
  {
   "cell_type": "code",
   "execution_count": 13,
   "metadata": {},
   "outputs": [],
   "source": [
    "from tensorflow import keras\n",
    "import tensorflow as tf"
   ]
  },
  {
   "cell_type": "markdown",
   "metadata": {},
   "source": [
    "# Load and predict model"
   ]
  },
  {
   "cell_type": "code",
   "execution_count": 119,
   "metadata": {},
   "outputs": [],
   "source": [
    "model = keras.models.load_model('../my_scripts/models/EfficientNet/simple_665_0.89.h5')"
   ]
  },
  {
   "cell_type": "code",
   "execution_count": 14,
   "metadata": {},
   "outputs": [],
   "source": [
    "IMG_PIXELS = 224\n",
    "image_size = (IMG_PIXELS, IMG_PIXELS)\n",
    "img = keras.preprocessing.image.load_img('../data/test/cardboard1.jpg', target_size=image_size)\n",
    "img_array = keras.preprocessing.image.img_to_array(img)\n",
    "img_array = tf.expand_dims(img_array, 0)"
   ]
  },
  {
   "cell_type": "code",
   "execution_count": 17,
   "metadata": {},
   "outputs": [],
   "source": [
    "prediction = model.predict(img_array)"
   ]
  },
  {
   "cell_type": "code",
   "execution_count": 23,
   "metadata": {},
   "outputs": [
    {
     "data": {
      "text/plain": [
       "'cardboard'"
      ]
     },
     "execution_count": 23,
     "metadata": {},
     "output_type": "execute_result"
    }
   ],
   "source": [
    "target_classes = ['cardboard', 'glass', 'metal', 'paper', 'plastic', 'trash']\n",
    "target_classes[tf.math.argmax(prediction[0]).numpy()]"
   ]
  },
  {
   "cell_type": "markdown",
   "metadata": {},
   "source": [
    "# Load testing set"
   ]
  },
  {
   "cell_type": "code",
   "execution_count": 27,
   "metadata": {},
   "outputs": [],
   "source": [
    "from tqdm import tqdm \n",
    "import pathlib \n",
    "import os\n",
    "\n",
    "base_dir = pathlib.Path('..')\n",
    "data_test = base_dir / 'data' / 'test'\n",
    "\n",
    "def make_target_test_classes():\n",
    "    for target_cls in target_classes:\n",
    "        if os.path.exists(data_test / target_cls):\n",
    "            print(f'path {data_test/target_cls} exists')\n",
    "            print(target_cls, len(os.listdir(data_test / target_cls)))\n",
    "        else: \n",
    "            os.makedirs(data_test / target_cls)\n",
    "            print(f'path {data_test/target_cls} created')\n",
    "\n",
    "def move_test_images(): \n",
    "    # copy files to train folder classes folder \n",
    "    for img_file in tqdm(os.listdir(data_test)):\n",
    "        if img_file.endswith('.jpg'):\n",
    "            img_path = data_test / img_file\n",
    "            for target_cls in target_classes:\n",
    "                if img_file.startswith(target_cls):\n",
    "                    img_path.rename(data_test / target_cls / img_file)"
   ]
  },
  {
   "cell_type": "code",
   "execution_count": 28,
   "metadata": {},
   "outputs": [
    {
     "name": "stdout",
     "output_type": "stream",
     "text": [
      "path ..\\data\\test\\cardboard created\n",
      "path ..\\data\\test\\glass created\n",
      "path ..\\data\\test\\metal created\n",
      "path ..\\data\\test\\paper created\n",
      "path ..\\data\\test\\plastic created\n",
      "path ..\\data\\test\\trash created\n"
     ]
    }
   ],
   "source": [
    "make_target_test_classes()"
   ]
  },
  {
   "cell_type": "code",
   "execution_count": 29,
   "metadata": {},
   "outputs": [
    {
     "name": "stderr",
     "output_type": "stream",
     "text": [
      "100%|██████████| 767/767 [00:01<00:00, 743.18it/s]\n"
     ]
    }
   ],
   "source": [
    "move_test_images()"
   ]
  },
  {
   "cell_type": "code",
   "execution_count": 41,
   "metadata": {},
   "outputs": [],
   "source": [
    "def load_test_data():\n",
    "\n",
    "    print('Loading test data')\n",
    "    test_ds = tf.keras.preprocessing.image_dataset_from_directory(\n",
    "        '../data/test',\n",
    "        validation_split=0,\n",
    "        label_mode=\"categorical\",\n",
    "        seed=1337,\n",
    "        image_size=image_size,\n",
    "        batch_size=100,\n",
    "    )\n",
    "    return test_ds\n"
   ]
  },
  {
   "cell_type": "code",
   "execution_count": 42,
   "metadata": {},
   "outputs": [
    {
     "name": "stdout",
     "output_type": "stream",
     "text": [
      "Loading test data\n",
      "Found 761 files belonging to 6 classes.\n"
     ]
    }
   ],
   "source": [
    "test_ds = load_test_data()"
   ]
  },
  {
   "cell_type": "code",
   "execution_count": 55,
   "metadata": {},
   "outputs": [
    {
     "data": {
      "text/plain": [
       "(8, tensorflow.python.data.ops.dataset_ops.BatchDataset)"
      ]
     },
     "execution_count": 55,
     "metadata": {},
     "output_type": "execute_result"
    }
   ],
   "source": [
    "len(test_ds), type(test_ds)"
   ]
  },
  {
   "cell_type": "code",
   "execution_count": 53,
   "metadata": {},
   "outputs": [
    {
     "data": {
      "text/plain": [
       "array(<TakeDataset shapes: ((None, 224, 224, 3), (None, 6)), types: (tf.float32, tf.float32)>,\n",
       "      dtype=object)"
      ]
     },
     "execution_count": 53,
     "metadata": {},
     "output_type": "execute_result"
    }
   ],
   "source": [
    "import numpy as np\n",
    "np.array(test_ds.take(1))"
   ]
  },
  {
   "cell_type": "code",
   "execution_count": 120,
   "metadata": {},
   "outputs": [],
   "source": [
    "predictions = model.predict(test_ds)"
   ]
  },
  {
   "cell_type": "code",
   "execution_count": 123,
   "metadata": {},
   "outputs": [
    {
     "name": "stdout",
     "output_type": "stream",
     "text": [
      "8/8 [==============================] - 7s 826ms/step - loss: 11.6848 - accuracy: 0.7254\n"
     ]
    },
    {
     "data": {
      "text/plain": [
       "(11.684842109680176, 0.7253613471984863)"
      ]
     },
     "execution_count": 123,
     "metadata": {},
     "output_type": "execute_result"
    }
   ],
   "source": [
    "test_loss, test_acc = model.evaluate(test_ds)\n",
    "test_loss, test_acc"
   ]
  },
  {
   "cell_type": "code",
   "execution_count": 124,
   "metadata": {},
   "outputs": [
    {
     "data": {
      "text/plain": [
       "(761, 6)"
      ]
     },
     "execution_count": 124,
     "metadata": {},
     "output_type": "execute_result"
    }
   ],
   "source": [
    "predictions.shape"
   ]
  },
  {
   "cell_type": "code",
   "execution_count": 125,
   "metadata": {},
   "outputs": [
    {
     "data": {
      "text/plain": [
       "((761, 6), (761, 6))"
      ]
     },
     "execution_count": 125,
     "metadata": {},
     "output_type": "execute_result"
    }
   ],
   "source": [
    "# for pred_int in predictions.argmax(axis=1):\n",
    "#     print(target_classes[pred_int])\n",
    "one_hot_labels = np.concatenate([y for x,y in test_ds])\n",
    "one_hot_labels.shape, predictions.shape"
   ]
  },
  {
   "cell_type": "code",
   "execution_count": 126,
   "metadata": {},
   "outputs": [
    {
     "name": "stdout",
     "output_type": "stream",
     "text": [
      "['cardboard', 'glass', 'metal', 'paper', 'plastic', 'trash']\n"
     ]
    },
    {
     "data": {
      "text/plain": [
       "array([[17, 26, 11, 41, 19,  7],\n",
       "       [23, 31, 12, 46, 32,  7],\n",
       "       [16, 20,  8, 40, 34,  5],\n",
       "       [28, 36, 20, 47, 45,  3],\n",
       "       [27, 25, 10, 42, 28, 13],\n",
       "       [ 7,  9,  7,  7, 10,  2]], dtype=int64)"
      ]
     },
     "execution_count": 126,
     "metadata": {},
     "output_type": "execute_result"
    }
   ],
   "source": [
    "from sklearn import metrics \n",
    "cm = metrics.confusion_matrix(y_true=one_hot_labels.argmax(axis=1), y_pred=predictions.argmax(axis=1))#, labels=target_classes)\n",
    "print(target_classes)\n",
    "cm"
   ]
  },
  {
   "cell_type": "code",
   "execution_count": 127,
   "metadata": {},
   "outputs": [
    {
     "data": {
      "image/png": "[encoded data removed]",
      "text/plain": [
       "<Figure size 720x504 with 1 Axes>"
      ]
     },
     "metadata": {
      "needs_background": "light"
     },
     "output_type": "display_data"
    }
   ],
   "source": [
    "f = plt.figure(figsize=(10,7))\n",
    "ax = f.add_subplot(111)\n",
    "plt.title('Efficient Net B0 Model Confusion Matrix')\n",
    "metrics.ConfusionMatrixDisplay.from_predictions(y_true=one_hot_labels.argmax(axis=1), y_pred=predictions.argmax(axis=1), display_labels=target_classes,cmap='magma', ax=ax, colorbar=False)\n",
    "plt.savefig('../my_scripts/plots/EfficientNet/confusion_matrix.jpg')"
   ]
  },
  {
   "cell_type": "code",
   "execution_count": null,
   "metadata": {},
   "outputs": [],
   "source": []
  }
 ],
 "metadata": {
  "interpreter": {
   "hash": "7ea4f19c824cf2ed3e82384cf55cc39a6ff5e215806f3b52e3e8a999134071f4"
  },
  "kernelspec": {
   "display_name": "Python 3.8.10 64-bit ('Garbage_classification-zsuLYxXv': pipenv)",
   "language": "python",
   "name": "python3"
  },
  "language_info": {
   "codemirror_mode": {
    "name": "ipython",
    "version": 3
   },
   "file_extension": ".py",
   "mimetype": "text/x-python",
   "name": "python",
   "nbconvert_exporter": "python",
   "pygments_lexer": "ipython3",
   "version": "3.8.10"
  },
  "orig_nbformat": 4
 },
 "nbformat": 4,
 "nbformat_minor": 2
}
