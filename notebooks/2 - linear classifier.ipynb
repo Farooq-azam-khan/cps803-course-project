{
 "cells": [
  {
   "cell_type": "code",
   "execution_count": 2,
   "metadata": {},
   "outputs": [],
   "source": [
    "from matplotlib import image \n",
    "from tqdm import tqdm \n",
    "import numpy as np"
   ]
  },
  {
   "cell_type": "code",
   "execution_count": 3,
   "metadata": {},
   "outputs": [],
   "source": [
    "import pathlib \n",
    "base = pathlib.Path('../data')\n",
    "train_data_path = base / 'train'\n",
    "test_data_path = base / 'test'"
   ]
  },
  {
   "cell_type": "code",
   "execution_count": 4,
   "metadata": {},
   "outputs": [],
   "source": [
    "train_data_files = list(train_data_path.glob('*.jpg'))\n",
    "test_data_files = list(test_data_path.glob('*.jpg'))\n",
    "assert 1766 == len(train_data_files)\n",
    "assert 761 == len(test_data_files)"
   ]
  },
  {
   "cell_type": "code",
   "execution_count": 7,
   "metadata": {},
   "outputs": [
    {
     "data": {
      "text/plain": [
       "(384, 512, 3)"
      ]
     },
     "execution_count": 7,
     "metadata": {},
     "output_type": "execute_result"
    }
   ],
   "source": [
    "orig_size = image.imread(train_data_files[0]).shape\n",
    "orig_size"
   ]
  },
  {
   "cell_type": "code",
   "execution_count": 6,
   "metadata": {},
   "outputs": [
    {
     "name": "stderr",
     "output_type": "stream",
     "text": [
      "100%|██████████| 1766/1766 [00:04<00:00, 375.59it/s]\n",
      "100%|██████████| 1766/1766 [00:05<00:00, 341.39it/s]\n"
     ]
    }
   ],
   "source": [
    "for train_data_file in tqdm(train_data_files):\n",
    "    assert orig_size == image.imread(train_data_file).shape\n",
    "    \n",
    "for train_data_file in tqdm(train_data_files):\n",
    "    assert orig_size == image.imread(train_data_file).shape\n",
    "    "
   ]
  },
  {
   "cell_type": "code",
   "execution_count": 1,
   "metadata": {},
   "outputs": [
    {
     "ename": "NameError",
     "evalue": "name 'image' is not defined",
     "output_type": "error",
     "traceback": [
      "\u001b[1;31m---------------------------------------------------------------------------\u001b[0m",
      "\u001b[1;31mNameError\u001b[0m                                 Traceback (most recent call last)",
      "\u001b[1;32m~\\AppData\\Local\\Temp/ipykernel_2020/3108409566.py\u001b[0m in \u001b[0;36m<module>\u001b[1;34m\u001b[0m\n\u001b[1;32m----> 1\u001b[1;33m \u001b[0mimgi\u001b[0m \u001b[1;33m=\u001b[0m \u001b[0mimage\u001b[0m\u001b[1;33m.\u001b[0m\u001b[0mimread\u001b[0m\u001b[1;33m(\u001b[0m\u001b[0mtrain_data_file\u001b[0m\u001b[1;33m)\u001b[0m\u001b[1;33m\u001b[0m\u001b[1;33m\u001b[0m\u001b[0m\n\u001b[0m",
      "\u001b[1;31mNameError\u001b[0m: name 'image' is not defined"
     ]
    }
   ],
   "source": [
    "imgi = image.imread(train_data_file)"
   ]
  },
  {
   "cell_type": "code",
   "execution_count": 7,
   "metadata": {},
   "outputs": [
    {
     "data": {
      "text/plain": [
       "((589824,),\n",
       " array([0.82745098, 0.75686275, 0.70196078, ..., 0.47058824, 0.43137255,\n",
       "        0.39215686]))"
      ]
     },
     "execution_count": 7,
     "metadata": {},
     "output_type": "execute_result"
    }
   ],
   "source": [
    "imgi.flatten().shape, imgi.flatten() / 255."
   ]
  },
  {
   "cell_type": "code",
   "execution_count": 8,
   "metadata": {},
   "outputs": [
    {
     "data": {
      "text/plain": [
       "(1766, 589824)"
      ]
     },
     "execution_count": 8,
     "metadata": {},
     "output_type": "execute_result"
    }
   ],
   "source": [
    "col_dim = imgi.flatten().shape[0]\n",
    "num_train_examples = 1766\n",
    "num_train_examples, col_dim"
   ]
  },
  {
   "cell_type": "code",
   "execution_count": 9,
   "metadata": {},
   "outputs": [],
   "source": [
    "X_train = np.zeros((num_train_examples,col_dim ))\n",
    "y_train = np.zeros((num_train_examples,))"
   ]
  },
  {
   "cell_type": "code",
   "execution_count": 10,
   "metadata": {},
   "outputs": [],
   "source": [
    "label_to_int_mapping = {\n",
    "    'cardboard': 1, \n",
    "    'glass': 2, \n",
    "    'metal': 3, \n",
    "    'paper': 4, \n",
    "    'plastic': 5, \n",
    "    'trash': 6\n",
    "}"
   ]
  },
  {
   "cell_type": "code",
   "execution_count": 11,
   "metadata": {},
   "outputs": [
    {
     "name": "stderr",
     "output_type": "stream",
     "text": [
      "100%|██████████| 1766/1766 [00:16<00:00, 104.91it/s]\n"
     ]
    }
   ],
   "source": [
    "for example_idx, train_data_file in enumerate(tqdm(train_data_files)):\n",
    "    img_data = image.imread(train_data_file).flatten() / 255.0\n",
    "    X_train[example_idx] = img_data \n",
    "    if 'cardboard' in str(train_data_file):\n",
    "        y_train[example_idx] = label_to_int_mapping['cardboard']\n",
    "    elif 'glass' in str(train_data_file):\n",
    "        y_train[example_idx] = label_to_int_mapping['glass']\n",
    "    elif 'metal' in str(train_data_file):\n",
    "        y_train[example_idx] = label_to_int_mapping['metal']\n",
    "    elif 'paper' in str(train_data_file):\n",
    "        y_train[example_idx] = label_to_int_mapping['paper']\n",
    "    elif 'plastic' in str(train_data_file):\n",
    "        y_train[example_idx] = label_to_int_mapping['plastic']\n",
    "    else: \n",
    "        y_train[example_idx] = label_to_int_mapping['trash']"
   ]
  },
  {
   "cell_type": "code",
   "execution_count": 13,
   "metadata": {},
   "outputs": [],
   "source": [
    "def preprocess_data(image_files):\n",
    "    X = np.zeros((len(image_files),col_dim))\n",
    "    y = np.zeros((len(image_files),))\n",
    "    for example_idx, image_file in enumerate(image_files):\n",
    "        img_data = image.imread(image_file).flatten() / 255.0\n",
    "        X[example_idx] = img_data \n",
    "        if 'cardboard' in str(image_file):\n",
    "            y[example_idx] = label_to_int_mapping['cardboard']\n",
    "        elif 'glass' in str(image_file):\n",
    "            y[example_idx] = label_to_int_mapping['glass']\n",
    "        elif 'metal' in str(image_file):\n",
    "            y[example_idx] = label_to_int_mapping['metal']\n",
    "        elif 'paper' in str(image_file):\n",
    "            y[example_idx] = label_to_int_mapping['paper']\n",
    "        elif 'plastic' in str(image_file):\n",
    "            y[example_idx] = label_to_int_mapping['plastic']\n",
    "        else: \n",
    "            y[example_idx] = label_to_int_mapping['trash']\n",
    "    return X, y\n",
    "    "
   ]
  },
  {
   "cell_type": "code",
   "execution_count": 14,
   "metadata": {},
   "outputs": [],
   "source": [
    "X_train, y_train = preprocess_data(train_data_files)\n",
    "X_test, y_test = preprocess_data(test_data_files)"
   ]
  },
  {
   "cell_type": "code",
   "execution_count": 17,
   "metadata": {},
   "outputs": [],
   "source": [
    "#from sklearn import svm \n",
    "#clf = svm.SVC(gamma='auto')\n",
    "#clf.fit(X_train, y_train)# Image dims too big "
   ]
  },
  {
   "cell_type": "code",
   "execution_count": 15,
   "metadata": {},
   "outputs": [
    {
     "data": {
      "text/plain": [
       "(0.4507227332457293, 0.7644394110985278)"
      ]
     },
     "execution_count": 15,
     "metadata": {},
     "output_type": "execute_result"
    }
   ],
   "source": [
    "from sklearn.neighbors import KNeighborsClassifier\n",
    "clf = KNeighborsClassifier(n_neighbors=2).fit(X_train, y_train)\n",
    "clf.score(X_test, y_test), clf.score(X_train, y_train)"
   ]
  },
  {
   "cell_type": "code",
   "execution_count": 16,
   "metadata": {},
   "outputs": [
    {
     "name": "stdout",
     "output_type": "stream",
     "text": [
      "1 0.46254927726675427 0.9994337485843715\n",
      "2 0.4507227332457293 0.7644394110985278\n",
      "3 0.4507227332457293 0.6732729331823329\n",
      "4 0.4467805519053876 0.644960362400906\n",
      "5 0.4507227332457293 0.6115515288788222\n",
      "6 0.4480946123521682 0.587202718006795\n",
      "7 0.4520367936925099 0.5662514156285391\n",
      "8 0.45466491458607095 0.5503963759909399\n",
      "9 0.43626806833114323 0.5362400906002265\n",
      "10 0.4296977660972405 0.5186862967157417\n",
      "11 0.43626806833114323 0.5107587768969423\n",
      "12 0.4375821287779238 0.5079275198187996\n",
      "13 0.4283837056504599 0.4988674971687429\n",
      "14 0.4191852825229961 0.4988674971687429\n",
      "15 0.4178712220762155 0.49490373725934317\n",
      "16 0.4204993429697766 0.4920724801812005\n",
      "17 0.41392904073587383 0.4869762174405436\n",
      "18 0.41392904073587383 0.48584371460928655\n",
      "19 0.42706964520367935 0.48187995469988676\n"
     ]
    }
   ],
   "source": [
    "for i in range(1,20):\n",
    "    knni = KNeighborsClassifier(n_neighbors=i).fit(X_train, y_train)\n",
    "    print(i, knni.score(X_test, y_test), knni.score(X_train, y_train))"
   ]
  },
  {
   "cell_type": "code",
   "execution_count": null,
   "metadata": {},
   "outputs": [],
   "source": [
    "# TODO: confusion matrix  + graph above values"
   ]
  }
 ],
 "metadata": {
  "interpreter": {
   "hash": "40aef00fbc9c05b30ac647e13825ac7fea9ea651ff1b1634e87ce985bd48a788"
  },
  "kernelspec": {
   "display_name": "Python 3.8.10 64-bit ('Garbage_classification-KxjMO_NF': virtualenv)",
   "name": "python3"
  },
  "language_info": {
   "codemirror_mode": {
    "name": "ipython",
    "version": 3
   },
   "file_extension": ".py",
   "mimetype": "text/x-python",
   "name": "python",
   "nbconvert_exporter": "python",
   "pygments_lexer": "ipython3",
   "version": "3.8.10"
  },
  "orig_nbformat": 4
 },
 "nbformat": 4,
 "nbformat_minor": 2
}
