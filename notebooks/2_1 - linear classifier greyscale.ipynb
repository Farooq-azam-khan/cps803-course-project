{
 "cells": [
  {
   "cell_type": "code",
   "execution_count": 36,
   "metadata": {},
   "outputs": [],
   "source": [
    "from matplotlib import image \n",
    "from tqdm import tqdm \n",
    "import numpy as np\n",
    "\n",
    "import pathlib \n",
    "\n",
    "\n",
    "label_to_int_mapping = {\n",
    "    'cardboard': 1, \n",
    "    'glass': 2, \n",
    "    'metal': 3, \n",
    "    'paper': 4, \n",
    "    'plastic': 5, \n",
    "    'trash': 6\n",
    "}\n",
    "\n",
    "int_to_label_mapping = {\n",
    "    '1': 'cardboard', \n",
    "    '2': 'glass', \n",
    "    '3': 'metal', \n",
    "    '4': 'paper', \n",
    "    '5': 'plastic',\n",
    "    '6': 'trash'\n",
    "}\n",
    "\n",
    "def load_image_files(train_data_path, test_data_path, assertion=False):\n",
    "    train_data_files = list(train_data_path.glob('*.jpg'))\n",
    "    test_data_files = list(test_data_path.glob('*.jpg'))\n",
    "    if assertion:\n",
    "        assert 1766 == len(train_data_files)\n",
    "        assert 761 == len(test_data_files)\n",
    "    return train_data_files, test_data_files\n",
    "\n",
    "def flatten_and_normalize(img):\n",
    "    return img.flatten() / 255.0\n",
    "\n",
    "def grey_scale_image(img):\n",
    "    return np.dot(img[...,:3], [0.2989, 0.5870, 0.1140])#img.mean(axis=2)\n",
    "\n",
    "def preprocess_data(image_files, col_dim, use_grey_scale):\n",
    "    \n",
    "   \n",
    "    X = np.zeros((len(image_files),col_dim))\n",
    "    y = np.zeros((len(image_files),))\n",
    "    for example_idx, image_file in tqdm(enumerate(image_files)):\n",
    "        if use_grey_scale: \n",
    "            img_data = flatten_and_normalize(grey_scale_image(image.imread(image_file)))\n",
    "        else:\n",
    "            img_data = flatten_and_normalize(image.imread(image_file))\n",
    "        X[example_idx] = img_data \n",
    "        if 'cardboard' in str(image_file):\n",
    "            y[example_idx] = label_to_int_mapping['cardboard']\n",
    "        elif 'glass' in str(image_file):\n",
    "            y[example_idx] = label_to_int_mapping['glass']\n",
    "        elif 'metal' in str(image_file):\n",
    "            y[example_idx] = label_to_int_mapping['metal']\n",
    "        elif 'paper' in str(image_file):\n",
    "            y[example_idx] = label_to_int_mapping['paper']\n",
    "        elif 'plastic' in str(image_file):\n",
    "            y[example_idx] = label_to_int_mapping['plastic']\n",
    "        else: \n",
    "            y[example_idx] = label_to_int_mapping['trash']\n",
    "    return X, y\n",
    "    \n",
    "def get_preprocessed_train_test_images(use_grey_scale=True, assertion=False):\n",
    "    base = pathlib.Path('../data')\n",
    "    train_data_path = base / 'train'\n",
    "    test_data_path = base / 'test'\n",
    "    train_data_files, test_data_files = load_image_files(train_data_path, test_data_path)\n",
    "    img0 = image.imread(train_data_files[0])\n",
    "    orig_size = image.imread(train_data_files[0]).shape\n",
    "\n",
    "    if assertion: \n",
    "        for train_data_file in tqdm(train_data_files):\n",
    "            assert orig_size == image.imread(train_data_file).shape\n",
    "            \n",
    "        for train_data_file in tqdm(train_data_files):\n",
    "            assert orig_size == image.imread(train_data_file).shape\n",
    "\n",
    "    if use_grey_scale: \n",
    "        col_dim = grey_scale_image(img0).flatten().shape[0]\n",
    "    else: \n",
    "        col_dim = img0.flatten().shape[0]\n",
    "    print(grey_scale_image(img0).shape)\n",
    "    X_train, y_train = preprocess_data(train_data_files, col_dim, use_grey_scale)\n",
    "    X_test, y_test = preprocess_data(test_data_files, col_dim, use_grey_scale)\n",
    "    return X_train, X_test, y_train, y_test"
   ]
  },
  {
   "cell_type": "code",
   "execution_count": 37,
   "metadata": {},
   "outputs": [
    {
     "name": "stdout",
     "output_type": "stream",
     "text": [
      "(384, 512)\n"
     ]
    },
    {
     "name": "stderr",
     "output_type": "stream",
     "text": [
      "1766it [00:26, 65.59it/s]\n",
      "761it [00:13, 56.82it/s]\n"
     ]
    }
   ],
   "source": [
    "X_train, X_test, y_train, y_test = get_preprocessed_train_test_images()"
   ]
  },
  {
   "cell_type": "code",
   "execution_count": 38,
   "metadata": {},
   "outputs": [
    {
     "data": {
      "text/plain": [
       "(0.4060446780551905, 0.7429218573046432)"
      ]
     },
     "execution_count": 38,
     "metadata": {},
     "output_type": "execute_result"
    }
   ],
   "source": [
    "from sklearn.neighbors import KNeighborsClassifier"
   ]
  },
  {
   "cell_type": "code",
   "execution_count": 39,
   "metadata": {},
   "outputs": [
    {
     "name": "stdout",
     "output_type": "stream",
     "text": [
      "1 0.4126149802890933 1.0\n",
      "2 0.4060446780551905 0.7429218573046432\n",
      "3 0.4021024967148489 0.6183465458663646\n",
      "4 0.39816031537450725 0.5928652321630804\n",
      "5 0.39421813403416556 0.5543601359003397\n",
      "6 0.41130091984231276 0.5328425821064553\n",
      "7 0.39421813403416556 0.5101925254813137\n",
      "8 0.3797634691195795 0.4898074745186863\n",
      "9 0.38896189224704336 0.47565118912797283\n",
      "10 0.37056504599211565 0.46772366930917325\n",
      "11 0.37582128777923784 0.4524348810872027\n",
      "12 0.38370565045992117 0.45016987542468856\n",
      "13 0.3771353482260184 0.43941109852774635\n",
      "14 0.37056504599211565 0.43714609286523215\n",
      "15 0.3797634691195795 0.4331823329558324\n",
      "16 0.3731931668856767 0.42638731596828994\n",
      "17 0.37582128777923784 0.42638731596828994\n",
      "18 0.37844940867279897 0.42129105322763305\n",
      "19 0.36662286465177396 0.41336353340883353\n"
     ]
    }
   ],
   "source": [
    "for i in range(1,20):\n",
    "    knni = KNeighborsClassifier(n_neighbors=i).fit(X_train, y_train)\n",
    "    print(i, knni.score(X_test, y_test), knni.score(X_train, y_train))"
   ]
  },
  {
   "cell_type": "code",
   "execution_count": null,
   "metadata": {},
   "outputs": [],
   "source": []
  }
 ],
 "metadata": {
  "interpreter": {
   "hash": "40aef00fbc9c05b30ac647e13825ac7fea9ea651ff1b1634e87ce985bd48a788"
  },
  "kernelspec": {
   "display_name": "Python 3.8.10 64-bit ('Garbage_classification-KxjMO_NF': virtualenv)",
   "name": "python3"
  },
  "language_info": {
   "codemirror_mode": {
    "name": "ipython",
    "version": 3
   },
   "file_extension": ".py",
   "mimetype": "text/x-python",
   "name": "python",
   "nbconvert_exporter": "python",
   "pygments_lexer": "ipython3",
   "version": "3.8.10"
  },
  "orig_nbformat": 4
 },
 "nbformat": 4,
 "nbformat_minor": 2
}
